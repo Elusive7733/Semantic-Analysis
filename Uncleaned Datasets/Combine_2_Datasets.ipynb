{
 "metadata": {
  "language_info": {
   "codemirror_mode": {
    "name": "ipython",
    "version": 3
   },
   "file_extension": ".py",
   "mimetype": "text/x-python",
   "name": "python",
   "nbconvert_exporter": "python",
   "pygments_lexer": "ipython3",
   "version": "3.8.10"
  },
  "orig_nbformat": 2,
  "kernelspec": {
   "name": "python3810jvsc74a57bd0c2725cd324890b6fc1668d8fb037785edef19c7599d18473c82b143c7e0764ba",
   "display_name": "Python 3.8.10 64-bit ('Dsci': conda)"
  }
 },
 "nbformat": 4,
 "nbformat_minor": 2,
 "cells": [
  {
   "cell_type": "code",
   "execution_count": 2,
   "metadata": {},
   "outputs": [],
   "source": [
    "import pandas as pd"
   ]
  },
  {
   "cell_type": "code",
   "execution_count": 3,
   "metadata": {},
   "outputs": [
    {
     "output_type": "execute_result",
     "data": {
      "text/plain": [
       "(21459, 2)"
      ]
     },
     "metadata": {},
     "execution_count": 3
    }
   ],
   "source": [
    "emotional_final_data = pd.read_csv('earth_emotions.csv')\n",
    "emotional_final_data.shape"
   ]
  },
  {
   "cell_type": "code",
   "execution_count": 4,
   "metadata": {},
   "outputs": [
    {
     "output_type": "execute_result",
     "data": {
      "text/plain": [
       "array(['sadness', 'anger', 'love', 'surprise', 'fear', 'happy'],\n",
       "      dtype=object)"
      ]
     },
     "metadata": {},
     "execution_count": 4
    }
   ],
   "source": [
    "emotional_final_data['Emotion'].unique()"
   ]
  },
  {
   "cell_type": "code",
   "execution_count": 5,
   "metadata": {},
   "outputs": [
    {
     "output_type": "execute_result",
     "data": {
      "text/plain": [
       "(40000, 2)"
      ]
     },
     "metadata": {},
     "execution_count": 5
    }
   ],
   "source": [
    "tweet_emotions_data = pd.read_csv('tweet_emotions.csv')\n",
    "tweet_emotions_data.drop('tweet_id', axis=1, inplace=True)\n",
    "tweet_emotions_data.rename(columns = {'sentiment': 'Emotion', 'content': 'Text'}, inplace=True)\n",
    "tweet_emotions_data.shape"
   ]
  },
  {
   "cell_type": "code",
   "execution_count": 6,
   "metadata": {},
   "outputs": [
    {
     "output_type": "execute_result",
     "data": {
      "text/plain": [
       "array(['empty', 'sadness', 'enthusiasm', 'neutral', 'worry', 'surprise',\n",
       "       'love', 'fun', 'hate', 'happiness', 'boredom', 'relief', 'anger'],\n",
       "      dtype=object)"
      ]
     },
     "metadata": {},
     "execution_count": 6
    }
   ],
   "source": [
    "tweet_emotions_data['Emotion'].unique()"
   ]
  },
  {
   "cell_type": "code",
   "execution_count": 7,
   "metadata": {},
   "outputs": [],
   "source": [
    "completed_dataframe = pd.concat([tweet_emotions_data, emotional_final_data])\n",
    "completed_dataframe = completed_dataframe.reset_index()\n",
    "completed_dataframe.drop('index', inplace=True, axis=1)"
   ]
  },
  {
   "cell_type": "code",
   "execution_count": 11,
   "metadata": {},
   "outputs": [],
   "source": [
    "# Reducing Labels\n",
    "\n",
    "#Group 1: happy\n",
    "completed_dataframe['Emotion'] = completed_dataframe['Emotion'].replace(['happiness', 'happy', 'enthusiasm', 'fun', 'relief'], 'happy')\n",
    "\n",
    "#Group 2: angry\n",
    "completed_dataframe['Emotion'] = completed_dataframe['Emotion'].replace(['angry', 'anger', 'hate'], 'angry')\n",
    "\n",
    "#Group 3: love\n",
    "#no need to do anything here because only one variable\n",
    "\n",
    "#Group 4: fear\n",
    "completed_dataframe['Emotion'] = completed_dataframe['Emotion'].replace(['fear', 'worry'], 'fear')\n",
    "\n",
    "#Group 5: sadness\n",
    "completed_dataframe['Emotion'] = completed_dataframe['Emotion'].replace(['sadness', 'sad'], 'sadness')\n",
    "\n",
    "#Group 6: suprise\n",
    "#no need to do anything here because only one variable\n",
    "\n",
    "#Group 7: neutral\n",
    "completed_dataframe['Emotion'] = completed_dataframe['Emotion'].replace(['neutral', 'boredom', 'empty'], 'neutral')\n"
   ]
  },
  {
   "cell_type": "code",
   "execution_count": 16,
   "metadata": {},
   "outputs": [
    {
     "output_type": "stream",
     "name": "stdout",
     "text": [
      "   Emotion                                               Text\n0  neutral  @tiffanylue i know  i was listenin to bad habi...\n1  sadness  Layin n bed with a headache  ughhhh...waitin o...\n2  sadness                Funeral ceremony...gloomy friday...\n3    happy               wants to hang out with friends SOON!\n4  neutral  @dannycastillo We want to trade with someone w...\n\n ['neutral' 'sadness' 'happy' 'fear' 'surprise' 'love' 'angry']\n"
     ]
    }
   ],
   "source": [
    "print(completed_dataframe.head(5))\n",
    "print('\\n', completed_dataframe['Emotion'].unique())"
   ]
  },
  {
   "cell_type": "code",
   "execution_count": 17,
   "metadata": {},
   "outputs": [],
   "source": [
    "completed_dataframe.dropna(inplace=True)\n",
    "completed_dataframe = completed_dataframe.reset_index()\n",
    "completed_dataframe.drop('index', inplace=True, axis=1)"
   ]
  },
  {
   "cell_type": "code",
   "execution_count": 18,
   "metadata": {},
   "outputs": [],
   "source": [
    "completed_dataframe.to_csv('medium_dataset.csv')"
   ]
  }
 ]
}