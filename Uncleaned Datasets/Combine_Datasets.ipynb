{
 "metadata": {
  "language_info": {
   "codemirror_mode": {
    "name": "ipython",
    "version": 3
   },
   "file_extension": ".py",
   "mimetype": "text/x-python",
   "name": "python",
   "nbconvert_exporter": "python",
   "pygments_lexer": "ipython3",
   "version": "3.8.10"
  },
  "orig_nbformat": 2,
  "kernelspec": {
   "name": "python3810jvsc74a57bd0c2725cd324890b6fc1668d8fb037785edef19c7599d18473c82b143c7e0764ba",
   "display_name": "Python 3.8.10 64-bit ('Dsci': conda)"
  }
 },
 "nbformat": 4,
 "nbformat_minor": 2,
 "cells": [
  {
   "cell_type": "code",
   "execution_count": 1,
   "metadata": {},
   "outputs": [],
   "source": [
    "import pandas as pd"
   ]
  },
  {
   "cell_type": "code",
   "execution_count": 2,
   "metadata": {},
   "outputs": [
    {
     "output_type": "execute_result",
     "data": {
      "text/plain": [
       "(21459, 2)"
      ]
     },
     "metadata": {},
     "execution_count": 2
    }
   ],
   "source": [
    "emotional_final_data = pd.read_csv('earth_emotions.csv')\n",
    "emotional_final_data.shape"
   ]
  },
  {
   "cell_type": "code",
   "execution_count": 3,
   "metadata": {},
   "outputs": [
    {
     "output_type": "execute_result",
     "data": {
      "text/plain": [
       "array(['sadness', 'anger', 'love', 'surprise', 'fear', 'happy'],\n",
       "      dtype=object)"
      ]
     },
     "metadata": {},
     "execution_count": 3
    }
   ],
   "source": [
    "emotional_final_data['Emotion'].unique()"
   ]
  },
  {
   "source": [
    "tweet_emotions_data = pd.read_csv('tweet_emotions.csv')\n",
    "tweet_emotions_data.drop('tweet_id', axis=1, inplace=True)\n",
    "tweet_emotions_data.rename(columns = {'sentiment': 'Emotion', 'content': 'Text'}, inplace=True)\n",
    "tweet_emotions_data.shape"
   ],
   "cell_type": "code",
   "metadata": {},
   "execution_count": 4,
   "outputs": [
    {
     "output_type": "execute_result",
     "data": {
      "text/plain": [
       "(40000, 2)"
      ]
     },
     "metadata": {},
     "execution_count": 4
    }
   ]
  },
  {
   "cell_type": "code",
   "execution_count": 5,
   "metadata": {},
   "outputs": [
    {
     "output_type": "execute_result",
     "data": {
      "text/plain": [
       "array(['empty', 'sadness', 'enthusiasm', 'neutral', 'worry', 'surprise',\n",
       "       'love', 'fun', 'hate', 'happiness', 'boredom', 'relief', 'anger'],\n",
       "      dtype=object)"
      ]
     },
     "metadata": {},
     "execution_count": 5
    }
   ],
   "source": [
    "tweet_emotions_data['Emotion'].unique()"
   ]
  },
  {
   "cell_type": "code",
   "execution_count": 6,
   "metadata": {},
   "outputs": [
    {
     "output_type": "stream",
     "name": "stdout",
     "text": [
      "Index(['text', 'admiration', 'amusement', 'anger', 'annoyance', 'approval',\n       'caring', 'confusion', 'curiosity', 'desire', 'disappointment',\n       'disapproval', 'disgust', 'embarrassment', 'excitement', 'fear',\n       'gratitude', 'grief', 'joy', 'love', 'nervousness', 'optimism', 'pride',\n       'realization', 'relief', 'remorse', 'sadness', 'surprise', 'neutral'],\n      dtype='object')\n"
     ]
    },
    {
     "output_type": "execute_result",
     "data": {
      "text/plain": [
       "(70000, 29)"
      ]
     },
     "metadata": {},
     "execution_count": 6
    }
   ],
   "source": [
    "goemotions_one_data = pd.read_csv('goemotions_1.csv')\n",
    "goemotions_one_data.drop(['id', 'author', 'subreddit', 'link_id', 'parent_id',\n",
    "       'created_utc', 'rater_id', 'example_very_unclear'], inplace=True, axis=1)\n",
    "print(goemotions_one_data.columns)\n",
    "goemotions_one_data.shape"
   ]
  },
  {
   "cell_type": "code",
   "execution_count": 7,
   "metadata": {},
   "outputs": [
    {
     "output_type": "stream",
     "name": "stdout",
     "text": [
      "Index(['text', 'admiration', 'amusement', 'anger', 'annoyance', 'approval',\n       'caring', 'confusion', 'curiosity', 'desire', 'disappointment',\n       'disapproval', 'disgust', 'embarrassment', 'excitement', 'fear',\n       'gratitude', 'grief', 'joy', 'love', 'nervousness', 'optimism', 'pride',\n       'realization', 'relief', 'remorse', 'sadness', 'surprise', 'neutral'],\n      dtype='object')\n"
     ]
    },
    {
     "output_type": "execute_result",
     "data": {
      "text/plain": [
       "(70000, 29)"
      ]
     },
     "metadata": {},
     "execution_count": 7
    }
   ],
   "source": [
    "goemotions_two_data = pd.read_csv('goemotions_2.csv')\n",
    "goemotions_two_data.drop(['id', 'author', 'subreddit', 'link_id', 'parent_id',\n",
    "       'created_utc', 'rater_id', 'example_very_unclear'], inplace=True, axis=1)\n",
    "print(goemotions_two_data.columns)\n",
    "goemotions_two_data.shape"
   ]
  },
  {
   "cell_type": "code",
   "execution_count": 8,
   "metadata": {},
   "outputs": [
    {
     "output_type": "stream",
     "name": "stdout",
     "text": [
      "Index(['text', 'admiration', 'amusement', 'anger', 'annoyance', 'approval',\n       'caring', 'confusion', 'curiosity', 'desire', 'disappointment',\n       'disapproval', 'disgust', 'embarrassment', 'excitement', 'fear',\n       'gratitude', 'grief', 'joy', 'love', 'nervousness', 'optimism', 'pride',\n       'realization', 'relief', 'remorse', 'sadness', 'surprise', 'neutral'],\n      dtype='object')\n"
     ]
    },
    {
     "output_type": "execute_result",
     "data": {
      "text/plain": [
       "(71225, 29)"
      ]
     },
     "metadata": {},
     "execution_count": 8
    }
   ],
   "source": [
    "goemotions_three_data = pd.read_csv('goemotions_3.csv')\n",
    "goemotions_three_data.drop(['id', 'author', 'subreddit', 'link_id', 'parent_id',\n",
    "       'created_utc', 'rater_id', 'example_very_unclear'], inplace=True, axis=1)\n",
    "print(goemotions_three_data.columns)\n",
    "goemotions_three_data.shape"
   ]
  },
  {
   "cell_type": "code",
   "execution_count": 9,
   "metadata": {
    "tags": []
   },
   "outputs": [],
   "source": [
    "dict1 = goemotions_one_data.to_dict('records')\n",
    "dict2 = goemotions_two_data.to_dict('records')\n",
    "dict3 = goemotions_three_data.to_dict('records')"
   ]
  },
  {
   "cell_type": "code",
   "execution_count": 10,
   "metadata": {},
   "outputs": [],
   "source": [
    "complete_dict = list()\n",
    "for record in dict1:\n",
    "    new_dict = dict()\n",
    "    for k, v in record.items():\n",
    "        if k == 'text':\n",
    "            new_dict['Text'] = v\n",
    "        if v == 1:\n",
    "            new_dict['Emotion'] = k\n",
    "    complete_dict.append(new_dict)\n",
    "for record in dict2:\n",
    "    new_dict = dict()\n",
    "    for k, v in record.items():\n",
    "        if k == 'text':\n",
    "            new_dict['Text'] = v\n",
    "        if v == 1:\n",
    "            new_dict['Emotion'] = k\n",
    "    complete_dict.append(new_dict)\n",
    "for record in dict3:\n",
    "    new_dict = dict()\n",
    "    for k, v in record.items():\n",
    "        if k == 'text':\n",
    "            new_dict['Text'] = v\n",
    "        if v == 1:\n",
    "            new_dict['Emotion'] = k\n",
    "    complete_dict.append(new_dict)"
   ]
  },
  {
   "cell_type": "code",
   "execution_count": 11,
   "metadata": {
    "tags": []
   },
   "outputs": [],
   "source": [
    "df = pd.DataFrame(complete_dict)\n",
    "df.dropna(inplace=True)"
   ]
  },
  {
   "cell_type": "code",
   "execution_count": 12,
   "metadata": {},
   "outputs": [],
   "source": [
    "completed_dataframe = pd.concat([df, tweet_emotions_data, emotional_final_data])\n",
    "completed_dataframe = completed_dataframe.reset_index()\n",
    "completed_dataframe.drop('index', inplace=True, axis=1)"
   ]
  },
  {
   "cell_type": "code",
   "execution_count": 13,
   "metadata": {},
   "outputs": [],
   "source": [
    "# Reducing Labels\n",
    "\n",
    "#Group 1: happy\n",
    "completed_dataframe['Emotion'] = completed_dataframe['Emotion'].replace(['happiness', 'happy', 'enthusiasm', 'amusement', 'excitement', 'gratitude', 'joy', 'optimism', 'fun'], 'happy')\n",
    "\n",
    "#Group 2: angry\n",
    "completed_dataframe['Emotion'] = completed_dataframe['Emotion'].replace(['annoyance', 'angry', 'anger'], 'angry')\n",
    "\n",
    "#Group 3: hate\n",
    "completed_dataframe['Emotion'] = completed_dataframe['Emotion'].replace(['disapproval', 'hate', 'disgust'], 'hate')\n",
    "\n",
    "#Group 4: love\n",
    "completed_dataframe['Emotion'] = completed_dataframe['Emotion'].replace(['admiration', 'approval', 'caring', 'desire', 'love'], 'love')\n",
    "\n",
    "#Group 5: fear\n",
    "completed_dataframe['Emotion'] = completed_dataframe['Emotion'].replace(['fear', 'nervousness', 'worry'], 'fear')\n",
    "\n",
    "#Group 6: realization\n",
    "completed_dataframe['Emotion'] = completed_dataframe['Emotion'].replace(['surprise', 'realization'], 'realization')\n",
    "\n",
    "#Group 7: embarrassment\n",
    "#no need to do anything here because only one variable\n",
    "\n",
    "#Group 8: sadness\n",
    "completed_dataframe['Emotion'] = completed_dataframe['Emotion'].replace(['sadness', 'sad', 'remorse', 'grief', 'disappointment'], 'sadness')\n",
    "\n",
    "#Group 9: relief\n",
    "#no need to do anything here because only one variable\n",
    "\n",
    "#Group 10: neutral\n",
    "completed_dataframe['Emotion'] = completed_dataframe['Emotion'].replace(['neutral', 'boredom', 'empty', 'pride', 'confusion', 'curiosity'], 'neutral')\n"
   ]
  },
  {
   "cell_type": "code",
   "execution_count": 14,
   "metadata": {},
   "outputs": [
    {
     "output_type": "stream",
     "name": "stdout",
     "text": [
      "                                                     Text  Emotion\n0                                         That game hurt.  sadness\n1          You do right, if you don't care then fuck 'em!  neutral\n2                                      Man I love reddit.     love\n3       [NAME] was nowhere near them, he was by the Fa...  neutral\n4       Right? Considering it’s such an important docu...    happy\n...                                                   ...      ...\n269248  Gascoigne is the first Englishman to fill the ...     fear\n269249  Please do n't let the dismay of the pro-Ford l...     fear\n269250                   There was dismay on her face , n     fear\n269251  To the dismay of German suppliers , Mr Lopez i...     fear\n269252  I watched with dismay as they hit the floor an...     fear\n\n[269253 rows x 2 columns] \n\n\n['sadness' 'neutral' 'love' 'happy' 'hate' 'realization' 'angry'\n 'embarrassment' 'relief' 'fear']\n"
     ]
    }
   ],
   "source": [
    "print(completed_dataframe.head(-20), '\\n\\n')\n",
    "print(completed_dataframe['Emotion'].unique())"
   ]
  },
  {
   "cell_type": "code",
   "execution_count": 15,
   "metadata": {},
   "outputs": [],
   "source": [
    "completed_dataframe.to_csv('huge_dataset.csv')"
   ]
  }
 ]
}