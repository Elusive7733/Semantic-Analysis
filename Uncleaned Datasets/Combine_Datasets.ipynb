{
 "metadata": {
  "language_info": {
   "codemirror_mode": {
    "name": "ipython",
    "version": 3
   },
   "file_extension": ".py",
   "mimetype": "text/x-python",
   "name": "python",
   "nbconvert_exporter": "python",
   "pygments_lexer": "ipython3",
   "version": "3.8.10"
  },
  "orig_nbformat": 2,
  "kernelspec": {
   "name": "python3810jvsc74a57bd069fefe8a05ed067aa524d2e4687ce4fe98c67287ddfa6aea5f6acb986df8cc30",
   "display_name": "Python 3.8.10 64-bit ('ML': conda)"
  }
 },
 "nbformat": 4,
 "nbformat_minor": 2,
 "cells": [
  {
   "cell_type": "code",
   "execution_count": 1,
   "metadata": {},
   "outputs": [],
   "source": [
    "import pandas as pd"
   ]
  },
  {
   "cell_type": "code",
   "execution_count": 2,
   "metadata": {},
   "outputs": [
    {
     "output_type": "execute_result",
     "data": {
      "text/plain": [
       "(21459, 2)"
      ]
     },
     "metadata": {},
     "execution_count": 2
    }
   ],
   "source": [
    "emotional_final_data = pd.read_csv('earth_emotions.csv')\n",
    "emotional_final_data.shape"
   ]
  },
  {
   "cell_type": "code",
   "execution_count": 10,
   "metadata": {},
   "outputs": [
    {
     "output_type": "execute_result",
     "data": {
      "text/plain": [
       "array(['sadness', 'anger', 'love', 'surprise', 'fear', 'happy'],\n",
       "      dtype=object)"
      ]
     },
     "metadata": {},
     "execution_count": 10
    }
   ],
   "source": [
    "emotional_final_data['Emotion'].unique()"
   ]
  },
  {
   "source": [
    "tweet_emotions_data = pd.read_csv('tweet_emotions.csv')\n",
    "tweet_emotions_data.drop('tweet_id', axis=1, inplace=True)\n",
    "tweet_emotions_data.rename(columns = {'sentiment': 'Emotion', 'content': 'Text'}, inplace=True)\n",
    "tweet_emotions_data.shape"
   ],
   "cell_type": "code",
   "metadata": {},
   "execution_count": 8,
   "outputs": [
    {
     "output_type": "execute_result",
     "data": {
      "text/plain": [
       "(40000, 2)"
      ]
     },
     "metadata": {},
     "execution_count": 8
    }
   ]
  },
  {
   "cell_type": "code",
   "execution_count": 13,
   "metadata": {},
   "outputs": [
    {
     "output_type": "execute_result",
     "data": {
      "text/plain": [
       "array(['empty', 'sadness', 'enthusiasm', 'neutral', 'worry', 'surprise',\n",
       "       'love', 'fun', 'hate', 'happiness', 'boredom', 'relief', 'anger'],\n",
       "      dtype=object)"
      ]
     },
     "metadata": {},
     "execution_count": 13
    }
   ],
   "source": [
    "tweet_emotions_data['Emotion'].unique()"
   ]
  },
  {
   "cell_type": "code",
   "execution_count": 18,
   "metadata": {},
   "outputs": [
    {
     "output_type": "stream",
     "name": "stdout",
     "text": [
      "Index(['text', 'admiration', 'amusement', 'anger', 'annoyance', 'approval',\n       'caring', 'confusion', 'curiosity', 'desire', 'disappointment',\n       'disapproval', 'disgust', 'embarrassment', 'excitement', 'fear',\n       'gratitude', 'grief', 'joy', 'love', 'nervousness', 'optimism', 'pride',\n       'realization', 'relief', 'remorse', 'sadness', 'surprise', 'neutral'],\n      dtype='object')\n"
     ]
    },
    {
     "output_type": "execute_result",
     "data": {
      "text/plain": [
       "(70000, 29)"
      ]
     },
     "metadata": {},
     "execution_count": 18
    }
   ],
   "source": [
    "goemotions_one_data = pd.read_csv('goemotions_1.csv')\n",
    "goemotions_one_data.drop(['id', 'author', 'subreddit', 'link_id', 'parent_id',\n",
    "       'created_utc', 'rater_id', 'example_very_unclear'], inplace=True, axis=1)\n",
    "print(goemotions_one_data.columns)\n",
    "goemotions_one_data.shape"
   ]
  },
  {
   "cell_type": "code",
   "execution_count": 19,
   "metadata": {},
   "outputs": [
    {
     "output_type": "stream",
     "name": "stdout",
     "text": [
      "Index(['text', 'admiration', 'amusement', 'anger', 'annoyance', 'approval',\n       'caring', 'confusion', 'curiosity', 'desire', 'disappointment',\n       'disapproval', 'disgust', 'embarrassment', 'excitement', 'fear',\n       'gratitude', 'grief', 'joy', 'love', 'nervousness', 'optimism', 'pride',\n       'realization', 'relief', 'remorse', 'sadness', 'surprise', 'neutral'],\n      dtype='object')\n"
     ]
    },
    {
     "output_type": "execute_result",
     "data": {
      "text/plain": [
       "(70000, 29)"
      ]
     },
     "metadata": {},
     "execution_count": 19
    }
   ],
   "source": [
    "goemotions_two_data = pd.read_csv('goemotions_2.csv')\n",
    "goemotions_two_data.drop(['id', 'author', 'subreddit', 'link_id', 'parent_id',\n",
    "       'created_utc', 'rater_id', 'example_very_unclear'], inplace=True, axis=1)\n",
    "print(goemotions_two_data.columns)\n",
    "goemotions_two_data.shape"
   ]
  },
  {
   "cell_type": "code",
   "execution_count": 20,
   "metadata": {},
   "outputs": [
    {
     "output_type": "stream",
     "name": "stdout",
     "text": [
      "Index(['text', 'admiration', 'amusement', 'anger', 'annoyance', 'approval',\n       'caring', 'confusion', 'curiosity', 'desire', 'disappointment',\n       'disapproval', 'disgust', 'embarrassment', 'excitement', 'fear',\n       'gratitude', 'grief', 'joy', 'love', 'nervousness', 'optimism', 'pride',\n       'realization', 'relief', 'remorse', 'sadness', 'surprise', 'neutral'],\n      dtype='object')\n"
     ]
    },
    {
     "output_type": "execute_result",
     "data": {
      "text/plain": [
       "(71225, 29)"
      ]
     },
     "metadata": {},
     "execution_count": 20
    }
   ],
   "source": [
    "goemotions_three_data = pd.read_csv('goemotions_3.csv')\n",
    "goemotions_three_data.drop(['id', 'author', 'subreddit', 'link_id', 'parent_id',\n",
    "       'created_utc', 'rater_id', 'example_very_unclear'], inplace=True, axis=1)\n",
    "print(goemotions_three_data.columns)\n",
    "goemotions_three_data.shape"
   ]
  },
  {
   "cell_type": "code",
   "execution_count": 26,
   "metadata": {
    "tags": []
   },
   "outputs": [],
   "source": [
    "dict1 = goemotions_one_data.to_dict('records')\n",
    "dict2 = goemotions_two_data.to_dict('records')\n",
    "dict3 = goemotions_three_data.to_dict('records')"
   ]
  },
  {
   "cell_type": "code",
   "execution_count": 44,
   "metadata": {},
   "outputs": [],
   "source": [
    "complete_dict = list()\n",
    "for record in dict1:\n",
    "    new_dict = dict()\n",
    "    for k, v in record.items():\n",
    "        if k == 'text':\n",
    "            new_dict['Text'] = v\n",
    "        if v == 1:\n",
    "            new_dict['Emotion'] = k\n",
    "    complete_dict.append(new_dict)\n",
    "for record in dict2:\n",
    "    new_dict = dict()\n",
    "    for k, v in record.items():\n",
    "        if k == 'text':\n",
    "            new_dict['Text'] = v\n",
    "        if v == 1:\n",
    "            new_dict['Emotion'] = k\n",
    "    complete_dict.append(new_dict)\n",
    "for record in dict3:\n",
    "    new_dict = dict()\n",
    "    for k, v in record.items():\n",
    "        if k == 'text':\n",
    "            new_dict['Text'] = v\n",
    "        if v == 1:\n",
    "            new_dict['Emotion'] = k\n",
    "    complete_dict.append(new_dict)"
   ]
  },
  {
   "cell_type": "code",
   "execution_count": 45,
   "metadata": {
    "tags": []
   },
   "outputs": [],
   "source": [
    "df = pd.DataFrame(complete_dict)\n",
    "df.dropna(inplace=True)"
   ]
  },
  {
   "cell_type": "code",
   "execution_count": 46,
   "metadata": {},
   "outputs": [],
   "source": [
    "completed_dataframe = pd.concat([df, tweet_emotions_data, emotional_final_data])\n",
    "completed_dataframe = completed_dataframe.reset_index()\n",
    "completed_dataframe.drop('index', inplace=True, axis=1)"
   ]
  },
  {
   "cell_type": "code",
   "execution_count": 52,
   "metadata": {},
   "outputs": [],
   "source": [
    "# reducing labels\n",
    "\n",
    "#Group 1: happy\n",
    "completed_dataframe['Emotion'] = completed_dataframe['Emotion'].replace(['happiness', 'happy', 'enthusiasm', 'amusement', 'excitement', 'gratitude', 'joy', 'optimism', 'fun'], 'happy')\n",
    "\n",
    "#Group 2: angry\n",
    "completed_dataframe['Emotion'] = completed_dataframe['Emotion'].replace(['annoyance', 'angry', 'anger'], 'angry')\n",
    "\n",
    "#Group 3: hate\n",
    "completed_dataframe['Emotion'] = completed_dataframe['Emotion'].replace(['disapproval', 'hate', 'disgust'], 'hate')\n",
    "\n",
    "#Group 4: love\n",
    "completed_dataframe['Emotion'] = completed_dataframe['Emotion'].replace(['admiration', 'approval', 'caring', 'desire', 'love'], 'love')\n",
    "\n",
    "#Group 5: fear\n",
    "completed_dataframe['Emotion'] = completed_dataframe['Emotion'].replace(['fear', 'nervousness', 'worry'], 'fear')\n",
    "\n",
    "#Group 6: realization\n",
    "completed_dataframe['Emotion'] = completed_dataframe['Emotion'].replace(['surprise', 'realization'], 'realization')\n",
    "\n",
    "#Group 7: embarrassment\n",
    "#no need to do anything here because only one variable\n",
    "\n",
    "#Group 8: sadness\n",
    "completed_dataframe['Emotion'] = completed_dataframe['Emotion'].replace(['sadness', 'sad', 'remorse', 'grief', 'disappointment'], 'sadness')\n",
    "\n",
    "#Group 9: relief\n",
    "#no need to do anything here because only one variable\n",
    "\n",
    "#Group 10: neutral\n",
    "completed_dataframe['Emotion'] = completed_dataframe['Emotion'].replace(['neutral', 'boredom', 'empty', 'pride', 'confusion'], 'neutral')\n"
   ]
  },
  {
   "cell_type": "code",
   "execution_count": 53,
   "metadata": {},
   "outputs": [
    {
     "output_type": "execute_result",
     "data": {
      "text/plain": [
       "                                                     Text  Emotion\n",
       "0                                         That game hurt.  sadness\n",
       "1          You do right, if you don't care then fuck 'em!  neutral\n",
       "2                                      Man I love reddit.     love\n",
       "3       [NAME] was nowhere near them, he was by the Fa...  neutral\n",
       "4       Right? Considering it’s such an important docu...    happy\n",
       "...                                                   ...      ...\n",
       "269268               Melissa stared at her friend in dism     fear\n",
       "269269  Successive state elections have seen the gover...     fear\n",
       "269270               Vincent was irritated but not dismay     fear\n",
       "269271  Kendall-Hume turned back to face the dismayed ...     fear\n",
       "269272                    I am dismayed , but not surpris     fear\n",
       "\n",
       "[269273 rows x 2 columns]"
      ],
      "text/html": "<div>\n<style scoped>\n    .dataframe tbody tr th:only-of-type {\n        vertical-align: middle;\n    }\n\n    .dataframe tbody tr th {\n        vertical-align: top;\n    }\n\n    .dataframe thead th {\n        text-align: right;\n    }\n</style>\n<table border=\"1\" class=\"dataframe\">\n  <thead>\n    <tr style=\"text-align: right;\">\n      <th></th>\n      <th>Text</th>\n      <th>Emotion</th>\n    </tr>\n  </thead>\n  <tbody>\n    <tr>\n      <th>0</th>\n      <td>That game hurt.</td>\n      <td>sadness</td>\n    </tr>\n    <tr>\n      <th>1</th>\n      <td>You do right, if you don't care then fuck 'em!</td>\n      <td>neutral</td>\n    </tr>\n    <tr>\n      <th>2</th>\n      <td>Man I love reddit.</td>\n      <td>love</td>\n    </tr>\n    <tr>\n      <th>3</th>\n      <td>[NAME] was nowhere near them, he was by the Fa...</td>\n      <td>neutral</td>\n    </tr>\n    <tr>\n      <th>4</th>\n      <td>Right? Considering it’s such an important docu...</td>\n      <td>happy</td>\n    </tr>\n    <tr>\n      <th>...</th>\n      <td>...</td>\n      <td>...</td>\n    </tr>\n    <tr>\n      <th>269268</th>\n      <td>Melissa stared at her friend in dism</td>\n      <td>fear</td>\n    </tr>\n    <tr>\n      <th>269269</th>\n      <td>Successive state elections have seen the gover...</td>\n      <td>fear</td>\n    </tr>\n    <tr>\n      <th>269270</th>\n      <td>Vincent was irritated but not dismay</td>\n      <td>fear</td>\n    </tr>\n    <tr>\n      <th>269271</th>\n      <td>Kendall-Hume turned back to face the dismayed ...</td>\n      <td>fear</td>\n    </tr>\n    <tr>\n      <th>269272</th>\n      <td>I am dismayed , but not surpris</td>\n      <td>fear</td>\n    </tr>\n  </tbody>\n</table>\n<p>269273 rows × 2 columns</p>\n</div>"
     },
     "metadata": {},
     "execution_count": 53
    }
   ],
   "source": [
    "completed_dataframe"
   ]
  },
  {
   "cell_type": "code",
   "execution_count": 54,
   "metadata": {},
   "outputs": [],
   "source": [
    "\n",
    "completed_dataframe.to_csv('combined_data.csv')"
   ]
  }
 ]
}